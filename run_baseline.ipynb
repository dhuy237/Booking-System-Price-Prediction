{
 "cells": [
  {
   "cell_type": "code",
   "execution_count": 1,
   "metadata": {},
   "outputs": [],
   "source": [
    "import matplotlib.pyplot as plt\n",
    "import numpy as np\n",
    "import pandas as pd\n",
    "import scipy as sc\n",
    "from sklearn import feature_selection\n",
    "from sklearn.linear_model import LinearRegression\n",
    "from sklearn import metrics"
   ]
  },
  {
   "cell_type": "code",
   "execution_count": 2,
   "metadata": {},
   "outputs": [],
   "source": [
    "def print_result(model, x_val, y_val):\n",
    "    y_pred_val = model.predict(x_val)\n",
    "    print('---Test---')\n",
    "    print('MAE: ', metrics.mean_absolute_error(y_val, y_pred_val))\n",
    "    print('MSE: ', metrics.mean_squared_error(y_val, y_pred_val))\n",
    "    print('R2: ', metrics.r2_score(y_val, y_pred_val))\n",
    "\n",
    "\n",
    "def Linear(x_train, y_train):\n",
    "    model = LinearRegression()\n",
    "    model.fit(x_train, y_train)\n",
    "    return model"
   ]
  },
  {
   "cell_type": "code",
   "execution_count": 3,
   "metadata": {},
   "outputs": [],
   "source": [
    "x_train = pd.read_csv('./data/data_cleaned_train_X.csv')\n",
    "y_train = pd.read_csv('./data/data_cleaned_train_y.csv')\n",
    "\n",
    "x_val = pd.read_csv('./data/data_cleaned_val_X.csv')\n",
    "y_val = pd.read_csv('./data/data_cleaned_val_y.csv')\n",
    "\n",
    "x_test = pd.read_csv('./data/data_cleaned_test_X.csv')\n",
    "y_test = pd.read_csv('./data/data_cleaned_test_y.csv')"
   ]
  },
  {
   "cell_type": "code",
   "execution_count": 4,
   "metadata": {},
   "outputs": [],
   "source": [
    "coeffs = np.load('./selected_coefs.npy')\n",
    "col_set = set()"
   ]
  },
  {
   "cell_type": "code",
   "execution_count": 5,
   "metadata": {},
   "outputs": [
    {
     "name": "stdout",
     "output_type": "stream",
     "text": [
      "---Test---\n",
      "MAE:  56.75002496117151\n",
      "MSE:  31974.49539844848\n",
      "R2:  0.32969296452055774\n",
      "---Test---\n",
      "MAE:  627919062.4057397\n",
      "MSE:  7.898411318659448e+20\n",
      "R2:  -1.094185646360482e+16\n",
      "---Test---\n",
      "MAE:  319822139.67199886\n",
      "MSE:  2.5576201443614946e+20\n",
      "R2:  -7761525684062291.0\n"
     ]
    }
   ],
   "source": [
    "# Linear Regression model\n",
    "linear_model = Linear(x_train, y_train)\n",
    "print_result(linear_model, x_train, y_train)\n",
    "print_result(linear_model, x_val, y_val)\n",
    "print_result(linear_model, x_test, y_test)"
   ]
  },
  {
   "cell_type": "code",
   "execution_count": 6,
   "metadata": {},
   "outputs": [],
   "source": [
    "for i in range(len(coeffs)):\n",
    "    if (coeffs[i]):\n",
    "        col_set.add(x_train.columns[i])\n",
    "        \n",
    "x_train = x_train[list(col_set)]\n",
    "x_val = x_val[list(col_set)]\n",
    "x_test = x_test[list(col_set)]\n",
    "\n",
    "x_concat = pd.concat([x_train, x_val], ignore_index=True)\n",
    "y_concat = pd.concat([y_train, y_val], ignore_index=True)"
   ]
  },
  {
   "cell_type": "code",
   "execution_count": 7,
   "metadata": {},
   "outputs": [
    {
     "name": "stdout",
     "output_type": "stream",
     "text": [
      "---Test---\n",
      "MAE:  62.86412266232709\n",
      "MSE:  44235.3351863953\n",
      "R2:  0.12269465152288905\n",
      "---Test---\n",
      "MAE:  70.86688141981416\n",
      "MSE:  65104.974278115165\n",
      "R2:  0.09808535555131559\n"
     ]
    }
   ],
   "source": [
    "linear_model_lasso = Linear(x_concat, y_concat)\n",
    "print_result(linear_model_lasso, x_concat, y_concat)\n",
    "print_result(linear_model_lasso, x_val, y_val)"
   ]
  },
  {
   "cell_type": "code",
   "execution_count": 5,
   "metadata": {},
   "outputs": [],
   "source": [
    "x_selected_train = pd.read_csv('./data/data_selected_train_X.csv')\n",
    "y_selected_train = pd.read_csv('./data/data_selected_train_y.csv')\n",
    "\n",
    "x_selected_val = pd.read_csv('./data/data_selected_val_X.csv')\n",
    "y_selected_val = pd.read_csv('./data/data_selected_val_y.csv')\n",
    "\n",
    "x_selected_test = pd.read_csv('./data/data_selected_test_X.csv')\n",
    "y_selected_test = pd.read_csv('./data/data_selected_test_y.csv')"
   ]
  },
  {
   "cell_type": "code",
   "execution_count": 6,
   "metadata": {},
   "outputs": [
    {
     "name": "stdout",
     "output_type": "stream",
     "text": [
      "---Test---\n",
      "MAE:  58.71252601909456\n",
      "MSE:  37892.32024206508\n",
      "R2:  0.20563284791888292\n",
      "---Test---\n",
      "MAE:  219641.11237827103\n",
      "MSE:  5452864952403.099\n",
      "R2:  -75539830.00837365\n"
     ]
    }
   ],
   "source": [
    "linear_model_forest = Linear(x_selected_train, y_selected_train)\n",
    "print_result(linear_model_forest, x_selected_train, y_selected_train)\n",
    "print_result(linear_model_forest, x_selected_val, y_selected_val)"
   ]
  },
  {
   "cell_type": "code",
   "execution_count": null,
   "metadata": {},
   "outputs": [],
   "source": []
  }
 ],
 "metadata": {
  "kernelspec": {
   "display_name": "Python 3",
   "language": "python",
   "name": "python3"
  },
  "language_info": {
   "codemirror_mode": {
    "name": "ipython",
    "version": 3
   },
   "file_extension": ".py",
   "mimetype": "text/x-python",
   "name": "python",
   "nbconvert_exporter": "python",
   "pygments_lexer": "ipython3",
   "version": "3.7.6"
  }
 },
 "nbformat": 4,
 "nbformat_minor": 2
}
